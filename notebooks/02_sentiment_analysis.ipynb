{
 "cells": [
  {
   "cell_type": "markdown",
   "metadata": {},
   "source": [
    "# Sentiment Analysis\n",
    "\n",
    "This notebook demonstrates comprehensive sentiment analysis using multiple approaches:\n",
    "\n",
    "## Objectives:\n",
    "- Compare different sentiment analysis methods\n",
    "- Train traditional ML models for sentiment classification\n",
    "- Use transformer-based models for state-of-the-art results\n",
    "- Evaluate and visualize model performance\n",
    "- Analyze sentiment confidence and distributions"
   ]
  },
  {
   "cell_type": "code",
   "execution_count": 2,
   "metadata": {},
   "outputs": [
    {
     "name": "stdout",
     "output_type": "stream",
     "text": [
      "Warning: rouge-score not available. ROUGE metrics will be limited.\n",
      "Warning: bert-score not available. BERT Score metrics will be limited.\n"
     ]
    }
   ],
   "source": [
    "# Import necessary libraries\n",
    "import pandas as pd\n",
    "import numpy as np\n",
    "import matplotlib.pyplot as plt\n",
    "import seaborn as sns\n",
    "import warnings\n",
    "warnings.filterwarnings('ignore')\n",
    "\n",
    "# Set up plotting\n",
    "plt.style.use('seaborn-v0_8')\n",
    "sns.set_palette('viridis')\n",
    "\n",
    "# Import our custom modules\n",
    "import sys\n",
    "sys.path.append('../src')\n",
    "\n",
    "from sentiment_analysis import SentimentAnalyzer\n",
    "from evaluation import ModelEvaluator\n",
    "from visualization import NLPVisualizer"
   ]
  },
  {
   "cell_type": "markdown",
   "metadata": {},
   "source": [
    "## 1. Load and Prepare Data"
   ]
  },
  {
   "cell_type": "code",
   "execution_count": 3,
   "metadata": {},
   "outputs": [
    {
     "name": "stdout",
     "output_type": "stream",
     "text": [
      "Dataset shape: (10, 9)\n",
      "\n",
      "Sentiment distribution:\n",
      "sentiment\n",
      "positive    6\n",
      "negative    2\n",
      "neutral     2\n",
      "Name: count, dtype: int64\n",
      "\n",
      "Sample texts:\n",
      "\n",
      "Text 1: A major technology company has announced a groundbreaking advancement in artificial intelligence tha...\n",
      "Sentiment: positive\n",
      "\n",
      "Text 2: World leaders have reached a historic agreement at the latest climate change summit, committing to a...\n",
      "Sentiment: positive\n",
      "\n",
      "Text 3: Financial markets continue to experience volatility amid ongoing economic uncertainty. Investors rem...\n",
      "Sentiment: negative\n"
     ]
    }
   ],
   "source": [
    "# Load the processed dataset\n",
    "df = pd.read_csv('../data/processed/processed_news_data.csv')\n",
    "\n",
    "print(\"Dataset shape:\", df.shape)\n",
    "print(\"\\nSentiment distribution:\")\n",
    "print(df['sentiment'].value_counts())\n",
    "\n",
    "# Display sample texts\n",
    "print(\"\\nSample texts:\")\n",
    "for i, row in df.head(3).iterrows():\n",
    "    print(f\"\\nText {i+1}: {row['text'][:100]}...\")\n",
    "    print(f\"Sentiment: {row['sentiment']}\")"
   ]
  },
  {
   "cell_type": "code",
   "execution_count": null,
   "metadata": {},
   "outputs": [],
   "source": [
    "# Import standard libraries\n",
    "import pandas as pd\n",
    "import numpy as np\n",
    "import matplotlib.pyplot as plt\n",
    "import seaborn as sns\n",
    "import warnings\n",
    "warnings.filterwarnings('ignore')\n",
    "\n",
    "# Set up plotting styles\n",
    "plt.style.use('seaborn-v0_8')\n",
    "sns.set_palette('viridis')\n",
    "\n",
    "# Fix imports from custom modules\n",
    "import sys\n",
    "import os\n",
    "\n",
    "# Append the src directory to sys.path (absolute path to avoid issues)\n",
    "sys.path.append(os.path.abspath('../src'))\n",
    "\n",
    "# Now import your modules\n",
    "from data_preprocessing import TextPreprocessor, create_sample_dataset\n",
    "from visualization import NLPVisualizer\n"
   ]
  },
  {
   "cell_type": "markdown",
   "metadata": {},
   "source": [
    "## 2. Initialize Sentiment Analyzer"
   ]
  },
  {
   "cell_type": "code",
   "execution_count": 4,
   "metadata": {},
   "outputs": [
    {
     "name": "stderr",
     "output_type": "stream",
     "text": [
      "Some weights of the model checkpoint at cardiffnlp/twitter-roberta-base-sentiment-latest were not used when initializing RobertaForSequenceClassification: ['roberta.pooler.dense.bias', 'roberta.pooler.dense.weight']\n",
      "- This IS expected if you are initializing RobertaForSequenceClassification from the checkpoint of a model trained on another task or with another architecture (e.g. initializing a BertForSequenceClassification model from a BertForPreTraining model).\n",
      "- This IS NOT expected if you are initializing RobertaForSequenceClassification from the checkpoint of a model that you expect to be exactly identical (initializing a BertForSequenceClassification model from a BertForSequenceClassification model).\n",
      "Device set to use cpu\n"
     ]
    },
    {
     "name": "stdout",
     "output_type": "stream",
     "text": [
      "Loaded transformer model: cardiffnlp/twitter-roberta-base-sentiment-latest\n",
      "Sentiment analyzer initialized successfully!\n"
     ]
    }
   ],
   "source": [
    "# Initialize sentiment analyzer and visualizer\n",
    "analyzer = SentimentAnalyzer()\n",
    "evaluator = ModelEvaluator()\n",
    "visualizer = NLPVisualizer()\n",
    "\n",
    "print(\"Sentiment analyzer initialized successfully!\")"
   ]
  },
  {
   "cell_type": "markdown",
   "metadata": {},
   "source": [
    "## 3. TextBlob Sentiment Analysis"
   ]
  },
  {
   "cell_type": "code",
   "execution_count": 5,
   "metadata": {},
   "outputs": [
    {
     "name": "stdout",
     "output_type": "stream",
     "text": [
      "Analyzing sentiment with TextBlob...\n",
      "\n",
      "TextBlob Results:\n",
      "textblob_sentiment\n",
      "neutral     5\n",
      "positive    5\n",
      "Name: count, dtype: int64\n"
     ]
    }
   ],
   "source": [
    "# Analyze sentiment using TextBlob\n",
    "print(\"Analyzing sentiment with TextBlob...\")\n",
    "\n",
    "textblob_results = []\n",
    "for text in df['text']:\n",
    "    result = analyzer.textblob_sentiment(text)\n",
    "    textblob_results.append(result)\n",
    "\n",
    "# Add results to dataframe\n",
    "df['textblob_sentiment'] = [r['sentiment'] for r in textblob_results]\n",
    "df['textblob_polarity'] = [r['polarity'] for r in textblob_results]\n",
    "df['textblob_confidence'] = [r['confidence'] for r in textblob_results]\n",
    "\n",
    "print(\"\\nTextBlob Results:\")\n",
    "print(df['textblob_sentiment'].value_counts())"
   ]
  },
  {
   "cell_type": "markdown",
   "metadata": {},
   "source": [
    "## 4. Transformer-based Sentiment Analysis"
   ]
  },
  {
   "cell_type": "code",
   "execution_count": 6,
   "metadata": {},
   "outputs": [
    {
     "name": "stdout",
     "output_type": "stream",
     "text": [
      "Analyzing sentiment with Transformer model...\n",
      "\n",
      "Transformer Results:\n",
      "transformer_sentiment\n",
      "positive    6\n",
      "negative    3\n",
      "neutral     1\n",
      "Name: count, dtype: int64\n"
     ]
    }
   ],
   "source": [
    "# Analyze sentiment using transformer model\n",
    "print(\"Analyzing sentiment with Transformer model...\")\n",
    "\n",
    "transformer_results = []\n",
    "for text in df['text']:\n",
    "    result = analyzer.transformer_sentiment(text)\n",
    "    transformer_results.append(result)\n",
    "\n",
    "# Add results to dataframe\n",
    "df['transformer_sentiment'] = [r['sentiment'] for r in transformer_results]\n",
    "df['transformer_confidence'] = [r['confidence'] for r in transformer_results]\n",
    "\n",
    "print(\"\\nTransformer Results:\")\n",
    "print(df['transformer_sentiment'].value_counts())"
   ]
  }
 ],
 "metadata": {
  "kernelspec": {
   "display_name": "base",
   "language": "python",
   "name": "python3"
  },
  "language_info": {
   "codemirror_mode": {
    "name": "ipython",
    "version": 3
   },
   "file_extension": ".py",
   "mimetype": "text/x-python",
   "name": "python",
   "nbconvert_exporter": "python",
   "pygments_lexer": "ipython3",
   "version": "3.12.9"
  }
 },
 "nbformat": 4,
 "nbformat_minor": 4
}
