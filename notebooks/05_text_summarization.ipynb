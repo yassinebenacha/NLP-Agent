import pandas as pd
import numpy as np
import matplotlib.pyplot as plt
from transformers import pipeline
from rouge import Rouge
import nltk
from nltk.tokenize import sent_tokenize
from sklearn.feature_extraction.text import TfidfVectorizer
import networkx as nx

# Download NLTK resources
nltk.download('punkt')

# Load processed data
df = pd.read_csv('../data/processed/processed_reviews.csv')

# Filter for longer reviews (more suitable for summarization)
long_reviews = df[df['review_body'].str.len() > 500].reset_index(drop=True)
sample_size = min(100, len(long_reviews))
sample_df = long_reviews.sample(sample_size, random_state=42)

# Method 1: Extractive summarization using TextRank
def textrank_summarize(text, num_sentences=3):
    sentences = sent_tokenize(text)
    
    # If text is too short, return original
    if len(sentences) <= num_sentences:
        return text
    
    # Create similarity matrix
    tfidf_vectorizer = TfidfVectorizer(stop_words='english')
    tfidf_matrix = tfidf_vectorizer.fit_transform(sentences)
    similarity_matrix = tfidf_matrix @ tfidf_matrix.T
    
    # Apply PageRank algorithm
    nx_graph = nx.from_numpy_array(similarity_matrix.toarray())
    scores = nx.pagerank(nx_graph)
    
    # Sort sentences by score and select top ones
    ranked_sentences = sorted(((scores[i], sentence) for i, sentence in enumerate(sentences)), reverse=True)
    summary_sentences = [ranked_sentences[i][1] for i in range(min(num_sentences, len(ranked_sentences)))]
    
    # Reorder sentences based on original order
    ordered_summary = [sentence for sentence in sentences if sentence in summary_sentences]
    
    return ' '.join(ordered_summary)

# Method 2: Abstractive summarization using Transformers
summarizer = pipeline("summarization", model="facebook/bart-large-cnn")

def transformer_summarize(text, max_length=130, min_length=30):
    # Truncate text if it's too long for the model
    if len(text) > 1024:
        text = text[:1024]
    
    summary = summarizer(text, max_length=max_length, min_length=min_length, do_sample=False)
    return summary[0]['summary_text']

# Apply both summarization methods
sample_df['textrank_summary'] = sample_df['review_body'].apply(textrank_summarize)
sample_df['transformer_summary'] = sample_df['review_body'].apply(transformer_summarize)

# Evaluate summaries using ROUGE
rouge = Rouge()

def calculate_rouge(original, summary):
    try:
        scores = rouge.get_scores(summary, original)
        return scores[0]
    except:
        return {'rouge-1': {'f': 0}, 'rouge-2': {'f': 0}, 'rouge-l': {'f': 0}}

# Calculate ROUGE scores
textrank_scores = []
transformer_scores = []

for i, row in sample_df.iterrows():
    textrank_score = calculate_rouge(row['review_body'], row['textrank_summary'])
    transformer_score = calculate_rouge(row['review_body'], row['transformer_summary'])
    
    textrank_scores.append({
        'rouge-1': textrank_score['rouge-1']['f'],
        'rouge-2': textrank_score['rouge-2']['f'],
        'rouge-l': textrank_score['rouge-l']['f']
    })
    
    transformer_scores.append({
        'rouge-1': transformer_score['rouge-1']['f'],
        'rouge-2': transformer_score['rouge-2']['f'],
        'rouge-l': transformer_score['rouge-l']['f']
    })

# Convert to DataFrame for visualization
textrank_df = pd.DataFrame(textrank_scores)
transformer_df = pd.DataFrame(transformer_scores)

# Visualize ROUGE scores
plt.figure(figsize=(12, 6))
labels = ['ROUGE-1', 'ROUGE-2', 'ROUGE-L']
textrank_means = [textrank_df['rouge-1'].mean(), textrank_df['rouge-2'].mean(), textrank_df['rouge-l'].mean()]
transformer_means = [transformer_df['rouge-1'].mean(), transformer_df['rouge-2'].mean(), transformer_df['rouge-l'].mean()]

x = np.arange(len(labels))
width = 0.35

fig, ax = plt.subplots(figsize=(10, 6))
rects1 = ax.bar(x - width/2, textrank_means, width, label='TextRank')
rects2 = ax.bar(x + width/2, transformer_means, width, label='Transformer')

ax.set_ylabel('F1 Score')
ax.set_title('ROUGE Scores by Summarization Method')
ax.set_xticks(x)
ax.set_xticklabels(labels)
ax.legend()

plt.tight_layout()
plt.savefig('../visualizations/summarization_comparison.png')
plt.show()

# Display example summaries
print("Original Text:")
print(sample_df['review_body'].iloc[0])
print("\nTextRank Summary:")
print(sample_df['textrank_summary'].iloc[0])
print("\nTransformer Summary:")
print(sample_df['transformer_summary'].iloc[0])